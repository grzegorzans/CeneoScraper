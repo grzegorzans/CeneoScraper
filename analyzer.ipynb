{
 "cells": [
  {
   "cell_type": "markdown",
   "metadata": {},
   "source": [
    "# Ceneo Analyzer\n",
    "\n",
    "1. Wyświetlenie listy kodów produktów, o których zostały pobrane opinie\n",
    "2. Pobranie od użytkownika kodu produktu, którego statystki mają być policzone\n",
    "3. Wczytanie z pliku JSON opinii o produkcie, którego statystki mają być policzone\n",
    "4. Policzenie podstawowych statystyk\n",
    "5. Przygotowanie wykresów:\n",
    "    - histogram częstości ocen produktu\n",
    "    - wykres udziału rekomendacji w opiniach\n"
   ]
  },
  {
   "cell_type": "markdown",
   "metadata": {},
   "source": [
    "1. Import bibliotek"
   ]
  },
  {
   "cell_type": "code",
   "execution_count": 8,
   "metadata": {},
   "outputs": [],
   "source": [
    "import os\n",
    "import pandas as pd\n",
    "import numpy as np\n",
    "from matplotlib import pyplot as plt"
   ]
  },
  {
   "cell_type": "markdown",
   "metadata": {},
   "source": [
    "2. Wyświetlenie listy kodów produktów, o których zostały pobrane opinie"
   ]
  },
  {
   "cell_type": "code",
   "execution_count": 10,
   "metadata": {},
   "outputs": [
    {
     "name": "stdout",
     "output_type": "stream",
     "text": [
      "36068712\n",
      "37089065\n",
      "49729622\n",
      "61161229\n",
      "92504536\n"
     ]
    }
   ],
   "source": [
    "print(*[filename.split(\".\")[0] for filename in os.listdir(\"opinions\")], sep=\"\\n\")"
   ]
  },
  {
   "cell_type": "markdown",
   "metadata": {},
   "source": [
    "3. Pobranie od użytkownika kodu produktu, którego statystki mają być policzone"
   ]
  },
  {
   "cell_type": "code",
   "execution_count": 11,
   "metadata": {},
   "outputs": [],
   "source": [
    "product_code = input(\"Podaj kod produktu: \")"
   ]
  },
  {
   "cell_type": "markdown",
   "metadata": {},
   "source": [
    "4. Wczytanie z pliku JSON opinii o produkcie, którego statystki mają być policzone"
   ]
  },
  {
   "cell_type": "code",
   "execution_count": 26,
   "metadata": {},
   "outputs": [],
   "source": [
    "opinions = pd.read_json(f\"opinions/{product_code}.json\")\n",
    "opinions.stars = opinions.stars.apply(lambda s: s.split('/')[0].replace(',', '.')).astype(float)"
   ]
  },
  {
   "cell_type": "markdown",
   "metadata": {},
   "source": [
    "5. Policzenie podstawowych statystyk"
   ]
  },
  {
   "cell_type": "code",
   "execution_count": 29,
   "metadata": {},
   "outputs": [],
   "source": [
    "opinions_count = opinions.shape[0]\n",
    "pros_count = opinions.pros.astype(bool).sum()\n",
    "cons_count = opinions.cons.astype(bool).sum()\n",
    "avarage_stars = opinions.stars.mean()"
   ]
  },
  {
   "cell_type": "markdown",
   "metadata": {},
   "source": [
    "6. Histogram częstości ocen produktu"
   ]
  },
  {
   "cell_type": "code",
   "execution_count": null,
   "metadata": {},
   "outputs": [],
   "source": [
    "stars_distr = opinions.stars.value_counts().reindex(np.arange(0,5.5,0.5), fill_value=0)\n",
    "stars_distr.plot.bar(color='darkblue')\n",
    "plt.title(f\"Histogram częstości ocen produktu {product_code}\")\n",
    "plt.xlabel(\"liczba gwiazdek\")\n",
    "plt.ylabel(\"liczba opinii\")\n",
    "plt.xticks(rotation=0)"
   ]
  },
  {
   "cell_type": "markdown",
   "metadata": {},
   "source": [
    "7. Wykres udziału rekomendacji w opiniach"
   ]
  },
  {
   "cell_type": "code",
   "execution_count": 76,
   "metadata": {},
   "outputs": [
    {
     "data": {
      "text/plain": [
       "Text(0, 0.5, '')"
      ]
     },
     "execution_count": 76,
     "metadata": {},
     "output_type": "execute_result"
    },
    {
     "data": {
      "image/png": "[encoded data removed]",
      "text/plain": [
       "<Figure size 200x200 with 1 Axes>"
      ]
     },
     "metadata": {},
     "output_type": "display_data"
    }
   ],
   "source": [
    "recommendations = opinions.recommendation.value_counts(dropna = False)\n",
    "recommendations.plot.pie(autopct='%1.1f%%', colors=[\"lightblue\", \"orange\", \"red\"])\n",
    "plt.ylabel(\"\")"
   ]
  },
  {
   "cell_type": "code",
   "execution_count": 39,
   "metadata": {},
   "outputs": [
    {
     "data": {
      "text/html": [
       "<div>\n",
       "<style scoped>\n",
       "    .dataframe tbody tr th:only-of-type {\n",
       "        vertical-align: middle;\n",
       "    }\n",
       "\n",
       "    .dataframe tbody tr th {\n",
       "        vertical-align: top;\n",
       "    }\n",
       "\n",
       "    .dataframe thead th {\n",
       "        text-align: right;\n",
       "    }\n",
       "</style>\n",
       "<table border=\"1\" class=\"dataframe\">\n",
       "  <thead>\n",
       "    <tr style=\"text-align: right;\">\n",
       "      <th></th>\n",
       "      <th>opinion_id</th>\n",
       "      <th>author</th>\n",
       "      <th>recommendation</th>\n",
       "      <th>stars</th>\n",
       "      <th>content</th>\n",
       "      <th>pros</th>\n",
       "      <th>cons</th>\n",
       "      <th>post_date</th>\n",
       "      <th>purchase_date</th>\n",
       "      <th>useful</th>\n",
       "      <th>useless</th>\n",
       "    </tr>\n",
       "  </thead>\n",
       "  <tbody>\n",
       "    <tr>\n",
       "      <th>0</th>\n",
       "      <td>15005859</td>\n",
       "      <td>a...7</td>\n",
       "      <td>Polecam</td>\n",
       "      <td>4.0</td>\n",
       "      <td>Dobra drukarka jak na tą cenę. Aplikacja do dr...</td>\n",
       "      <td>[cena, jakość wydruku, szybkość wydruku]</td>\n",
       "      <td>[głośność pracy]</td>\n",
       "      <td>2021-09-28 17:05:40</td>\n",
       "      <td>2021-07-13 10:44:47</td>\n",
       "      <td>3</td>\n",
       "      <td>0</td>\n",
       "    </tr>\n",
       "    <tr>\n",
       "      <th>1</th>\n",
       "      <td>14933593</td>\n",
       "      <td>z...w</td>\n",
       "      <td>Polecam</td>\n",
       "      <td>5.0</td>\n",
       "      <td>Produkt wart swojej ceny. Bardzo dobry stosune...</td>\n",
       "      <td>[cena, głośność pracy, jakość wydruku, szybkoś...</td>\n",
       "      <td>[]</td>\n",
       "      <td>2021-09-08 12:53:41</td>\n",
       "      <td>2020-03-01 20:59:22</td>\n",
       "      <td>0</td>\n",
       "      <td>0</td>\n",
       "    </tr>\n",
       "    <tr>\n",
       "      <th>2</th>\n",
       "      <td>14911521</td>\n",
       "      <td>Przemek</td>\n",
       "      <td>Polecam</td>\n",
       "      <td>4.5</td>\n",
       "      <td>Bardzo przyjemna drukarka wi-fi kiedy się już ...</td>\n",
       "      <td>[cena, głośność pracy, jakość wydruku, szybkoś...</td>\n",
       "      <td>[]</td>\n",
       "      <td>2021-09-01 21:35:52</td>\n",
       "      <td>2021-08-08 11:22:53</td>\n",
       "      <td>1</td>\n",
       "      <td>0</td>\n",
       "    </tr>\n",
       "    <tr>\n",
       "      <th>3</th>\n",
       "      <td>13278019</td>\n",
       "      <td>Jacek</td>\n",
       "      <td>Polecam</td>\n",
       "      <td>5.0</td>\n",
       "      <td>Mała, szybka drukarka, dobra jakość druku, świ...</td>\n",
       "      <td>[cena, jakość / cena, jakość wydruku, kompakto...</td>\n",
       "      <td>[]</td>\n",
       "      <td>2020-10-27 10:50:45</td>\n",
       "      <td>2020-10-17 15:29:21</td>\n",
       "      <td>5</td>\n",
       "      <td>0</td>\n",
       "    </tr>\n",
       "    <tr>\n",
       "      <th>4</th>\n",
       "      <td>16133710</td>\n",
       "      <td>b...o</td>\n",
       "      <td>Polecam</td>\n",
       "      <td>4.5</td>\n",
       "      <td>Jak ktoś nie ma routera z WPS a do tego jeszcz...</td>\n",
       "      <td>[6 latka zaczęła drukować po 5 minutach, bardz...</td>\n",
       "      <td>[banalna instalacja, głośność pracy, łatwość i...</td>\n",
       "      <td>2022-05-26 14:41:55</td>\n",
       "      <td>2022-05-20 11:01:13</td>\n",
       "      <td>0</td>\n",
       "      <td>0</td>\n",
       "    </tr>\n",
       "    <tr>\n",
       "      <th>...</th>\n",
       "      <td>...</td>\n",
       "      <td>...</td>\n",
       "      <td>...</td>\n",
       "      <td>...</td>\n",
       "      <td>...</td>\n",
       "      <td>...</td>\n",
       "      <td>...</td>\n",
       "      <td>...</td>\n",
       "      <td>...</td>\n",
       "      <td>...</td>\n",
       "      <td>...</td>\n",
       "    </tr>\n",
       "    <tr>\n",
       "      <th>169</th>\n",
       "      <td>6393687</td>\n",
       "      <td>Użytkownik Ceneo</td>\n",
       "      <td>None</td>\n",
       "      <td>4.5</td>\n",
       "      <td>4,5/5</td>\n",
       "      <td>[]</td>\n",
       "      <td>[]</td>\n",
       "      <td>2017-12-26 21:59:17</td>\n",
       "      <td>None</td>\n",
       "      <td>0</td>\n",
       "      <td>0</td>\n",
       "    </tr>\n",
       "    <tr>\n",
       "      <th>170</th>\n",
       "      <td>6311651</td>\n",
       "      <td>Użytkownik Ceneo</td>\n",
       "      <td>None</td>\n",
       "      <td>5.0</td>\n",
       "      <td>5,0/5</td>\n",
       "      <td>[]</td>\n",
       "      <td>[]</td>\n",
       "      <td>2017-12-08 12:07:29</td>\n",
       "      <td>2017-12-05 15:12:28</td>\n",
       "      <td>0</td>\n",
       "      <td>0</td>\n",
       "    </tr>\n",
       "    <tr>\n",
       "      <th>171</th>\n",
       "      <td>6280668</td>\n",
       "      <td>Użytkownik Ceneo</td>\n",
       "      <td>None</td>\n",
       "      <td>4.5</td>\n",
       "      <td>4,5/5</td>\n",
       "      <td>[]</td>\n",
       "      <td>[]</td>\n",
       "      <td>2017-12-01 14:37:19</td>\n",
       "      <td>2017-11-14 17:04:34</td>\n",
       "      <td>0</td>\n",
       "      <td>0</td>\n",
       "    </tr>\n",
       "    <tr>\n",
       "      <th>172</th>\n",
       "      <td>5129804</td>\n",
       "      <td>Użytkownik Ceneo</td>\n",
       "      <td>None</td>\n",
       "      <td>5.0</td>\n",
       "      <td>5,0/5</td>\n",
       "      <td>[]</td>\n",
       "      <td>[]</td>\n",
       "      <td>2017-10-16 11:01:39</td>\n",
       "      <td>2017-10-11 16:24:04</td>\n",
       "      <td>0</td>\n",
       "      <td>0</td>\n",
       "    </tr>\n",
       "    <tr>\n",
       "      <th>173</th>\n",
       "      <td>4751529</td>\n",
       "      <td>Użytkownik Ceneo</td>\n",
       "      <td>Polecam</td>\n",
       "      <td>4.0</td>\n",
       "      <td>4,0/5</td>\n",
       "      <td>[]</td>\n",
       "      <td>[]</td>\n",
       "      <td>2017-06-12 13:24:18</td>\n",
       "      <td>2017-06-06 11:45:37</td>\n",
       "      <td>0</td>\n",
       "      <td>0</td>\n",
       "    </tr>\n",
       "  </tbody>\n",
       "</table>\n",
       "<p>174 rows × 11 columns</p>\n",
       "</div>"
      ],
      "text/plain": [
       "     opinion_id            author recommendation  stars  \\\n",
       "0      15005859             a...7        Polecam    4.0   \n",
       "1      14933593             z...w        Polecam    5.0   \n",
       "2      14911521           Przemek        Polecam    4.5   \n",
       "3      13278019             Jacek        Polecam    5.0   \n",
       "4      16133710             b...o        Polecam    4.5   \n",
       "..          ...               ...            ...    ...   \n",
       "169     6393687  Użytkownik Ceneo           None    4.5   \n",
       "170     6311651  Użytkownik Ceneo           None    5.0   \n",
       "171     6280668  Użytkownik Ceneo           None    4.5   \n",
       "172     5129804  Użytkownik Ceneo           None    5.0   \n",
       "173     4751529  Użytkownik Ceneo        Polecam    4.0   \n",
       "\n",
       "                                               content  \\\n",
       "0    Dobra drukarka jak na tą cenę. Aplikacja do dr...   \n",
       "1    Produkt wart swojej ceny. Bardzo dobry stosune...   \n",
       "2    Bardzo przyjemna drukarka wi-fi kiedy się już ...   \n",
       "3    Mała, szybka drukarka, dobra jakość druku, świ...   \n",
       "4    Jak ktoś nie ma routera z WPS a do tego jeszcz...   \n",
       "..                                                 ...   \n",
       "169                                              4,5/5   \n",
       "170                                              5,0/5   \n",
       "171                                              4,5/5   \n",
       "172                                              5,0/5   \n",
       "173                                              4,0/5   \n",
       "\n",
       "                                                  pros  \\\n",
       "0             [cena, jakość wydruku, szybkość wydruku]   \n",
       "1    [cena, głośność pracy, jakość wydruku, szybkoś...   \n",
       "2    [cena, głośność pracy, jakość wydruku, szybkoś...   \n",
       "3    [cena, jakość / cena, jakość wydruku, kompakto...   \n",
       "4    [6 latka zaczęła drukować po 5 minutach, bardz...   \n",
       "..                                                 ...   \n",
       "169                                                 []   \n",
       "170                                                 []   \n",
       "171                                                 []   \n",
       "172                                                 []   \n",
       "173                                                 []   \n",
       "\n",
       "                                                  cons            post_date  \\\n",
       "0                                     [głośność pracy]  2021-09-28 17:05:40   \n",
       "1                                                   []  2021-09-08 12:53:41   \n",
       "2                                                   []  2021-09-01 21:35:52   \n",
       "3                                                   []  2020-10-27 10:50:45   \n",
       "4    [banalna instalacja, głośność pracy, łatwość i...  2022-05-26 14:41:55   \n",
       "..                                                 ...                  ...   \n",
       "169                                                 []  2017-12-26 21:59:17   \n",
       "170                                                 []  2017-12-08 12:07:29   \n",
       "171                                                 []  2017-12-01 14:37:19   \n",
       "172                                                 []  2017-10-16 11:01:39   \n",
       "173                                                 []  2017-06-12 13:24:18   \n",
       "\n",
       "           purchase_date  useful  useless  \n",
       "0    2021-07-13 10:44:47       3        0  \n",
       "1    2020-03-01 20:59:22       0        0  \n",
       "2    2021-08-08 11:22:53       1        0  \n",
       "3    2020-10-17 15:29:21       5        0  \n",
       "4    2022-05-20 11:01:13       0        0  \n",
       "..                   ...     ...      ...  \n",
       "169                 None       0        0  \n",
       "170  2017-12-05 15:12:28       0        0  \n",
       "171  2017-11-14 17:04:34       0        0  \n",
       "172  2017-10-11 16:24:04       0        0  \n",
       "173  2017-06-06 11:45:37       0        0  \n",
       "\n",
       "[174 rows x 11 columns]"
      ]
     },
     "execution_count": 39,
     "metadata": {},
     "output_type": "execute_result"
    }
   ],
   "source": [
    "opinions"
   ]
  }
 ],
 "metadata": {
  "kernelspec": {
   "display_name": ".venv",
   "language": "python",
   "name": "python3"
  },
  "language_info": {
   "codemirror_mode": {
    "name": "ipython",
    "version": 3
   },
   "file_extension": ".py",
   "mimetype": "text/x-python",
   "name": "python",
   "nbconvert_exporter": "python",
   "pygments_lexer": "ipython3",
   "version": "3.12.0"
  }
 },
 "nbformat": 4,
 "nbformat_minor": 2
}
