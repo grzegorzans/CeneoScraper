{
 "cells": [
  {
   "cell_type": "markdown",
   "metadata": {},
   "source": [
    "# CeneoScarper"
   ]
  },
  {
   "cell_type": "markdown",
   "metadata": {},
   "source": [
    "## Lista kroków \"manualnych\"\n",
    "\n",
    "1. Otworzyć Ceneo\n",
    "2. Wyszukać produkt\n",
    "3. Otworzyć okno produktu\n",
    "4. Wybrać zakładkę Opinie i Recencje\n",
    "5. Skopiować opinie\n",
    "6. Wkleić opinie\n",
    "\n",
    "## Lista kroków scrapera\n",
    "\n",
    "1. Wysłanie żądania dostępu do zasobu\n",
    "2. Wydobycie z kodu HTML fragmentów odpowiadających opiniom\n",
    "3. Wydobycie z kodu opinii jej składowych do słownika dla każdej opinii na stronie\n",
    "4. Dodanie słownika reprezentującego pojedynczą opinię do listy"
   ]
  },
  {
   "cell_type": "markdown",
   "metadata": {},
   "source": [
    "## Struktura opinii w serwisie Ceneo.pl\n",
    "\n",
    "|składowa|nazwa|selektor|\n",
    "|--------|-----|--------|\n",
    "|identyfikator opinii|opinion_id|[\"data-entry-id\"]|\n",
    "|autor|author|span.user-post__author-name|\n",
    "|rekomendacja|recommendation|span.user-post__author-recomendation > em|\n",
    "|liczba gwiazdek|stars|span.user-post__score-count|\n",
    "|treść opinii|content|div.user-post__text|\n",
    "|lista zalet|pros|div.review-feature__title--positives ~ div.review-feature__item|\n",
    "|lista wad|cons|div.review-feature__title--negatives ~ div.review-feature__item|\n",
    "|data wystawienia opinii|post_date|span.user-post__published > time:nth-child(1)[\"datetime\"]|\n",
    "|data zakupu produktu|purchase_date|span.user-post__published > time:nth-child(2)[\"datetime\"]|\n",
    "|ile osób uznało opinię za przydatną|useful|button.vote-yes > span|\n",
    "|ile osób uznało opinię za nieprzydatną|useless|button.vote-no > span|"
   ]
  },
  {
   "cell_type": "markdown",
   "metadata": {},
   "source": [
    "49729622\n",
    "61161229\n",
    "36068712\n",
    "37089065\n",
    "92504536"
   ]
  },
  {
   "cell_type": "markdown",
   "metadata": {},
   "source": [
    "1. Import bibliotek"
   ]
  },
  {
   "cell_type": "code",
   "execution_count": 44,
   "metadata": {},
   "outputs": [],
   "source": [
    "import os\n",
    "import json\n",
    "import requests\n",
    "from bs4 import BeautifulSoup"
   ]
  },
  {
   "cell_type": "markdown",
   "metadata": {},
   "source": [
    "2. Wysłanie żądania dostępu do zasobu"
   ]
  },
  {
   "cell_type": "code",
   "execution_count": 45,
   "metadata": {},
   "outputs": [],
   "source": [
    "product_code = \"92504536\"\n",
    "url = f\"https://www.ceneo.pl/{product_code}#tab=reviews\"\n",
    "response = requests.get(url)"
   ]
  },
  {
   "cell_type": "markdown",
   "metadata": {},
   "source": [
    "3. Wydobycie z kodu HTML fragmentów odpowiadających opiniom"
   ]
  },
  {
   "cell_type": "code",
   "execution_count": 46,
   "metadata": {},
   "outputs": [],
   "source": [
    "page = BeautifulSoup(response.text, \"html.parser\")\n",
    "opinions = page.select(\"div.js_product-review\")"
   ]
  },
  {
   "cell_type": "markdown",
   "metadata": {},
   "source": [
    "4. Wydobycie z kodu opinii jej składowych dla każdej opinii na stronie"
   ]
  },
  {
   "cell_type": "code",
   "execution_count": 47,
   "metadata": {},
   "outputs": [],
   "source": [
    "all_opinions = []\n",
    "for opinion in opinions:\n",
    "    single_opinion = {\n",
    "        'opinion_id': opinion[\"data-entry-id\"].strip(),\n",
    "        'author': opinion.select_one(\"span.user-post__author-name\").text.strip(),\n",
    "        'recommendation': opinion.select_one(\"span.user-post__author-recomendation > em\").text.strip(),\n",
    "        'stars': opinion.select_one(\"span.user-post__score-count\").text.strip(),\n",
    "        'content': opinion.select_one(\"div.user-post__text\").text.strip(),\n",
    "        'pros': [p.text for p in opinion.select(\"div.review-feature__title--positives ~ div.review-feature__item\")],\n",
    "        'cons': [c.text for c in opinion.select(\"div.review-feature__title--negatives ~ div.review-feature__item\")],\n",
    "        'post_date': opinion.select_one(\"span.user-post__published > time:nth-child(1)\")[\"datetime\"].strip(),\n",
    "        # 'purchase_date': opinion.select_one(\"span.user-post__published > time:nth-child(2)\")[\"datetime\"].strip(),\n",
    "        'useful': opinion.select_one(\"button.vote-yes > span\").text.strip(),\n",
    "        'useless': opinion.select_one(\"button.vote-no > span\").text.strip(),\n",
    "    }\n",
    "all_opinions.append(single_opinion)"
   ]
  },
  {
   "cell_type": "markdown",
   "metadata": {},
   "source": [
    "5. Zapis opinii do pliku JSON"
   ]
  },
  {
   "cell_type": "code",
   "execution_count": 48,
   "metadata": {},
   "outputs": [],
   "source": [
    "if not os.path.exists(\"opinions\"):\n",
    "    os.mkdir(\"opinions\")\n",
    "file = open(f\"opinions/{product_code}.json\", \"w\", encoding=\"UTF-8\")\n",
    "json.dump(all_opinions, file, indent=4, ensure_ascii=False)\n",
    "file.close()"
   ]
  }
 ],
 "metadata": {
  "kernelspec": {
   "display_name": ".venv",
   "language": "python",
   "name": "python3"
  },
  "language_info": {
   "codemirror_mode": {
    "name": "ipython",
    "version": 3
   },
   "file_extension": ".py",
   "mimetype": "text/x-python",
   "name": "python",
   "nbconvert_exporter": "python",
   "pygments_lexer": "ipython3",
   "version": "3.12.0"
  }
 },
 "nbformat": 4,
 "nbformat_minor": 2
}
